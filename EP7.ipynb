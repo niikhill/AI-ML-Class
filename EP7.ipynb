{
 "cells": [
  {
   "cell_type": "code",
   "execution_count": 2,
   "metadata": {},
   "outputs": [
    {
     "name": "stdout",
     "output_type": "stream",
     "text": [
      "slope b1 is  2.8\n",
      "intercept b0 is  6.200000000000001\n"
     ]
    },
    {
     "data": {
      "text/plain": [
       "Text(0, 0.5, 'Dependent variable y')"
      ]
     },
     "execution_count": 2,
     "metadata": {},
     "output_type": "execute_result"
    },
    {
     "data": {
      "image/png": "[encoded data removed]",
      "text/plain": [
       "<Figure size 432x288 with 1 Axes>"
      ]
     },
     "metadata": {
      "needs_background": "light"
     },
     "output_type": "display_data"
    }
   ],
   "source": [
    "import numpy as np\n",
    "import matplotlib.pyplot as plt\n",
    "import statsmodels.api as sm\n",
    "from sklearn.linear_model import LinearRegression\n",
    "from sklearn.metrics import mean_squared_error, r2_score\n",
    "x = np.array([1, 2, 3, 4, 5])\n",
    "y = np.array([7, 14, 15, 18, 19])\n",
    "n = np.size(x)\n",
    "x_mean = np.mean(x)\n",
    "y_mean = np.mean(y)\n",
    "x_mean, y_mean\n",
    "Sxy = np.sum(x*y) - n*x_mean*y_mean\n",
    "Sxx = np.sum(x*x) - n*x_mean*x_mean\n",
    "b1 = Sxy/Sxx\n",
    "b0 = y_mean - b1*x_mean\n",
    "print('slope b1 is ', b1)\n",
    "print('intercept b0 is ', b0)\n",
    "plt.scatter(x, y)\n",
    "plt.xlabel('Independent variable x')\n",
    "plt.ylabel('Dependent variable y')\n"
   ]
  },
  {
   "cell_type": "code",
   "execution_count": 3,
   "metadata": {},
   "outputs": [
    {
     "data": {
      "text/plain": [
       "Text(0, 0.5, 'Y')"
      ]
     },
     "execution_count": 3,
     "metadata": {},
     "output_type": "execute_result"
    },
    {
     "data": {
      "image/png": "[encoded data removed]",
      "text/plain": [
       "<Figure size 432x288 with 1 Axes>"
      ]
     },
     "metadata": {
      "needs_background": "light"
     },
     "output_type": "display_data"
    }
   ],
   "source": [
    "y_pred = b1*x + b0\n",
    "plt.scatter(x, y, c='red')\n",
    "plt.plot(x, y_pred, c='blue')\n",
    "plt.xlabel('X')\n",
    "plt.ylabel('Y')\n"
   ]
  },
  {
   "cell_type": "code",
   "execution_count": 4,
   "metadata": {},
   "outputs": [
    {
     "name": "stdout",
     "output_type": "stream",
     "text": [
      "Squared error is  10.800000000000004\n",
      "mean square error is  2.160000000000001\n",
      "root mean square error is  1.4696938456699071\n",
      "R square is  0.8789237668161435\n"
     ]
    }
   ],
   "source": [
    "error = y - y_pred\n",
    "se = np.sum(error**2)\n",
    "print('Squared error is ', se)\n",
    "mse = se/n\n",
    "print('mean square error is ', mse)\n",
    "rmse = np.sqrt(mse)\n",
    "print('root mean square error is ', rmse)\n",
    "sst = np.sum((y - y_mean)**2)\n",
    "R2 = 1 - (se/sst)\n",
    "print('R square is ', R2)\n"
   ]
  },
  {
   "cell_type": "code",
   "execution_count": 5,
   "metadata": {},
   "outputs": [
    {
     "name": "stdout",
     "output_type": "stream",
     "text": [
      "Slope:  [2.8]\n",
      "Intercept:  6.199999999999999\n",
      "MSE:  2.160000000000001\n",
      "Root Mean Squared Error:  1.4696938456699071\n",
      "R2 score:  0.8789237668161435\n"
     ]
    }
   ],
   "source": [
    "x = x.reshape(-1, 1)\n",
    "regres = LinearRegression()\n",
    "regres.fit(x, y)\n",
    "y_predict = regres.predict(x)\n",
    "mse = mean_squared_error(y, y_predict)\n",
    "rmse = np.sqrt(mean_squared_error(y, y_predict))\n",
    "r2 = r2_score(y, y_predict)\n",
    "print('Slope: ', regres.coef_)\n",
    "print('Intercept: ', regres.intercept_)\n",
    "print('MSE: ', mse)\n",
    "print('Root Mean Squared Error: ', rmse)\n",
    "print('R2 score: ', r2)DF\n"
   ]
  }
 ],
 "metadata": {
  "interpreter": {
   "hash": "f74579012b49ac62e20268bc3041c93309dc1876b7a10b964add9e6588836ca1"
  },
  "kernelspec": {
   "display_name": "Python 3.9.5 64-bit",
   "name": "python3"
  },
  "language_info": {
   "codemirror_mode": {
    "name": "ipython",
    "version": 3
   },
   "file_extension": ".py",
   "mimetype": "text/x-python",
   "name": "python",
   "nbconvert_exporter": "python",
   "pygments_lexer": "ipython3",
   "version": "3.9.5"
  },
  "orig_nbformat": 4
 },
 "nbformat": 4,
 "nbformat_minor": 2
}
