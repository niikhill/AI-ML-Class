{
  "nbformat": 4,
  "nbformat_minor": 0,
  "metadata": {
    "colab": {
      "name": "least_square.ipynb",
      "provenance": [],
      "authorship_tag": "ABX9TyPaJhA0B523/WAoDMlZr0Jl",
      "include_colab_link": true
    },
    "kernelspec": {
      "name": "python3",
      "display_name": "Python 3"
    },
    "language_info": {
      "name": "python"
    }
  },
  "cells": [
    {
      "cell_type": "markdown",
      "metadata": {
        "id": "view-in-github",
        "colab_type": "text"
      },
      "source": [
        "<a href=\"https://colab.research.google.com/github/niikhill/AI-ML-Class/blob/main/least_square.ipynb\" target=\"_parent\"><img src=\"https://colab.research.google.com/assets/colab-badge.svg\" alt=\"Open In Colab\"/></a>"
      ]
    },
    {
      "cell_type": "code",
      "metadata": {
        "id": "s9W1jnDFjG1U"
      },
      "source": [
        "import numpy as np\n",
        "import pandas as pd\n",
        "import seaborn as sns\n",
        "from sklearn.linear_model import LinearRegression\n",
        "from sklearn.metrics import mean_squared_error\n",
        "# from google.colab import files\n",
        "# files.upload()"
      ],
      "execution_count": 1,
      "outputs": []
    },
    {
      "cell_type": "code",
      "metadata": {
        "colab": {
          "base_uri": "https://localhost:8080/"
        },
        "id": "hTOD3Ty5jaJG",
        "outputId": "c12e8e57-1c08-4a69-9021-9721d7fa11d8"
      },
      "source": [
        "data = pd.read_csv('https://raw.githubusercontent.com/niikhill/AI-ML-Class/main/datasets/headbrain.csv')\n",
        "print(data.shape)"
      ],
      "execution_count": 2,
      "outputs": [
        {
          "output_type": "stream",
          "name": "stdout",
          "text": [
            "(59, 4)\n"
          ]
        }
      ]
    },
    {
      "cell_type": "code",
      "metadata": {
        "colab": {
          "base_uri": "https://localhost:8080/"
        },
        "id": "r_t1EfGzjgY5",
        "outputId": "58ae11a9-ae28-479d-c278-4b17d71198a9"
      },
      "source": [
        "print(data.head())"
      ],
      "execution_count": 3,
      "outputs": [
        {
          "output_type": "stream",
          "name": "stdout",
          "text": [
            "   Gender  Age Range  Head Size  Brain Weight (grams)\n",
            "0       1          1       4512                  1530\n",
            "1       1          1       3738                  1297\n",
            "2       1          1       4261                  1335\n",
            "3       1          1       3777                  1282\n",
            "4       1          1       4177                  1590\n"
          ]
        }
      ]
    },
    {
      "cell_type": "code",
      "metadata": {
        "colab": {
          "base_uri": "https://localhost:8080/",
          "height": 279
        },
        "id": "F1XPP2IGj5LO",
        "outputId": "6650f68a-96d0-4383-ab9b-8450e3548bf0"
      },
      "source": [
        "sns.regplot(x=data['Head Size'],y=data['Brain Weight (grams)']);"
      ],
      "execution_count": 4,
      "outputs": [
        {
          "output_type": "display_data",
          "data": {
            "image/png": "[encoded data removed]",
            "text/plain": [
              "<Figure size 432x288 with 1 Axes>"
            ]
          },
          "metadata": {
            "needs_background": "light"
          }
        }
      ]
    },
    {
      "cell_type": "code",
      "metadata": {
        "id": "QNQKfzwykFX5"
      },
      "source": [
        "#Computing X and y\n",
        "X = data['Head Size'].values\n",
        "Y = data['Brain Weight (grams)'].values"
      ],
      "execution_count": 5,
      "outputs": []
    },
    {
      "cell_type": "code",
      "metadata": {
        "id": "0tazm0-NkR_c"
      },
      "source": [
        "X=X.reshape((len(X),1))"
      ],
      "execution_count": 6,
      "outputs": []
    },
    {
      "cell_type": "code",
      "metadata": {
        "id": "fNzM0cQVkYpY"
      },
      "source": [
        "reg = LinearRegression();"
      ],
      "execution_count": 7,
      "outputs": []
    },
    {
      "cell_type": "code",
      "metadata": {
        "id": "bNXBjTmzkbrm"
      },
      "source": [
        "reg = reg.fit(X,Y)"
      ],
      "execution_count": 8,
      "outputs": []
    },
    {
      "cell_type": "code",
      "metadata": {
        "id": "LTy6fgkJkhr2"
      },
      "source": [
        "Y_pred = reg.predict(X)"
      ],
      "execution_count": 9,
      "outputs": []
    },
    {
      "cell_type": "code",
      "metadata": {
        "colab": {
          "base_uri": "https://localhost:8080/"
        },
        "id": "zGOZAHYflJiR",
        "outputId": "a1a84ddb-168b-40e6-8e2c-b767be3c8094"
      },
      "source": [
        "#Root mean squared error(RMSE) is the square root of the average of squared diff between prediction and actual observation.\n",
        "#Here the error are squared before they are averaged, the RMSE gives a relatively high weight to large errors.\n",
        "#So RMSE is more usefull when large error are particularly undesireable.\n",
        "# In simple words RMSE penalize the large errors\n",
        "\n",
        "rmse = np.sqrt(mean_squared_error(Y,Y_pred))\n",
        "print(\"RMSE =\",rmse)"
      ],
      "execution_count": 10,
      "outputs": [
        {
          "output_type": "stream",
          "name": "stdout",
          "text": [
            "RMSE = 82.20224448520042\n"
          ]
        }
      ]
    },
    {
      "cell_type": "code",
      "metadata": {
        "colab": {
          "base_uri": "https://localhost:8080/"
        },
        "id": "JU9QpAcwl4cu",
        "outputId": "c46f2484-4dd5-4a1d-977f-e4f233afecb7"
      },
      "source": [
        "#R-Squared os the \"Percent of variance explained\" by the model. R-Squared is the fraction by which the variance of the errors is less\n",
        "#than the variance of the dependent variables.\n",
        "r2 = reg.score(X,Y)\n",
        "print(\"R2 Score =\",r2)"
      ],
      "execution_count": 11,
      "outputs": [
        {
          "output_type": "stream",
          "name": "stdout",
          "text": [
            "R2 Score = 0.6378327820399066\n"
          ]
        }
      ]
    },
    {
      "cell_type": "code",
      "metadata": {
        "id": "qJS2PKWjsEL6"
      },
      "source": [
        "#Mean X and Y\n",
        "mean_x = np.mean(X)\n",
        "mean_y = np.mean(Y)\n",
        "\n",
        "# Total number of values\n",
        "n = len(X)\n"
      ],
      "execution_count": 12,
      "outputs": []
    },
    {
      "cell_type": "code",
      "metadata": {
        "colab": {
          "base_uri": "https://localhost:8080/"
        },
        "id": "NPBhSuqxsP6x",
        "outputId": "37d934df-1f02-4669-eaa0-f14a1f9dfe24"
      },
      "source": [
        "#Using the formula to calculate m and c\n",
        "numer =0\n",
        "denom =0\n",
        "for i in range(n):\n",
        "  numer +=(X[i] - mean_x)*(Y[i]-mean_y)\n",
        "  denom += (X[i]-mean_x)**2\n",
        "m = numer/denom\n",
        "c = mean_y -(m*mean_x)\n",
        "\n",
        "#Printing coefficent, These Cofficients are our slopes and intercepts values respectively. On substituting values in final equations \n",
        "#Brain Weight = 325.573421049+0.263429339489 * head Size\n",
        "\n",
        "print(\"Coefficent\")\n",
        "print(m,c)"
      ],
      "execution_count": 13,
      "outputs": [
        {
          "output_type": "stream",
          "name": "stdout",
          "text": [
            "Coefficent\n",
            "[0.2710172] [308.69902673]\n"
          ]
        }
      ]
    },
    {
      "cell_type": "code",
      "metadata": {
        "colab": {
          "base_uri": "https://localhost:8080/",
          "height": 279
        },
        "id": "PxvfyvITtQhc",
        "outputId": "4ce2f300-8ce4-41cd-8ced-28db9e815744"
      },
      "source": [
        "import matplotlib.pyplot as plt\n",
        "#Plotting Values and regression lines\n",
        "\n",
        "max_x = np.max(X)+100\n",
        "min_x = np.min(X)-100\n",
        "\n",
        "# Calcualting lines values x and y\n",
        "x = np.linspace(min_x,max_x ,1000)\n",
        "y = c + m * x\n",
        "\n",
        "#plotting Line\n",
        "plt.plot(x,y, color='#58b970',label=\"Regression Line\")\n",
        "#plotting scatter plot\n",
        "plt.scatter(X,Y,c='#ef5423',label=\"Scatter Plot\")\n",
        "\n",
        "plt.xlabel('Head Size in cm3')\n",
        "plt.ylabel('Brain Weight in grams')\n",
        "plt.legend()\n",
        "plt.show()\n"
      ],
      "execution_count": 14,
      "outputs": [
        {
          "output_type": "display_data",
          "data": {
            "image/png": "[encoded data removed]",
            "text/plain": [
              "<Figure size 432x288 with 1 Axes>"
            ]
          },
          "metadata": {
            "needs_background": "light"
          }
        }
      ]
    },
    {
      "cell_type": "code",
      "metadata": {
        "id": "pchX2YYeudP6",
        "colab": {
          "base_uri": "https://localhost:8080/"
        },
        "outputId": "61769943-fec7-46fc-9f00-4fdb720ffd16"
      },
      "source": [
        "# Calculating root mean squre Error\n",
        "rmse =0\n",
        "for i in range(n):\n",
        "  y_pred = c + m * X[i]\n",
        "  rmse +=(Y[i]-y_pred)**2\n",
        "rmse = np.sqrt(rmse/n)\n",
        "print(\"RMSE\")\n",
        "print(rmse)"
      ],
      "execution_count": 15,
      "outputs": [
        {
          "output_type": "stream",
          "name": "stdout",
          "text": [
            "RMSE\n",
            "[82.20224449]\n"
          ]
        }
      ]
    },
    {
      "cell_type": "code",
      "metadata": {
        "colab": {
          "base_uri": "https://localhost:8080/"
        },
        "id": "sOt-D7vT3HMo",
        "outputId": "9f705e7b-1b64-4b97-8bb4-a84d2587c5a5"
      },
      "source": [
        "# Calculating R2 score\n",
        "\n",
        "ss_tot = 0\n",
        "ss_res = 0\n",
        "for i in range(n):\n",
        "  y_pred = c + m * X[i]\n",
        "  ss_tot += (Y[i]-mean_y)**2\n",
        "  ss_res += (Y[i]-y_pred)**2\n",
        "r2 = 1 -(ss_res/ss_tot)\n",
        "print(\"R2 score\")\n",
        "print(r2)"
      ],
      "execution_count": 16,
      "outputs": [
        {
          "output_type": "stream",
          "name": "stdout",
          "text": [
            "R2 score\n",
            "[0.63783278]\n"
          ]
        }
      ]
    }
  ]
}