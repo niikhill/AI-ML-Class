{
  "cells": [
    {
      "cell_type": "markdown",
      "metadata": {
        "colab_type": "text",
        "id": "view-in-github"
      },
      "source": [
        "<a href=\"https://colab.research.google.com/github/niikhill/AI-ML-Class/blob/main/least_square.ipynb\" target=\"_parent\"><img src=\"https://colab.research.google.com/assets/colab-badge.svg\" alt=\"Open In Colab\"/></a>"
      ]
    },
    {
      "cell_type": "code",
      "execution_count": 3,
      "metadata": {
        "id": "s9W1jnDFjG1U"
      },
      "outputs": [],
      "source": [
        "import numpy as np\n",
        "import pandas as pd\n",
        "import seaborn as sns\n",
        "from sklearn.linear_model import LinearRegression\n",
        "from sklearn.metrics import mean_squared_error\n"
      ]
    },
    {
      "cell_type": "code",
      "execution_count": 4,
      "metadata": {
        "colab": {
          "base_uri": "https://localhost:8080/"
        },
        "id": "hTOD3Ty5jaJG",
        "outputId": "c12e8e57-1c08-4a69-9021-9721d7fa11d8"
      },
      "outputs": [
        {
          "name": "stdout",
          "output_type": "stream",
          "text": [
            "(59, 4)\n"
          ]
        }
      ],
      "source": [
        "data = pd.read_csv(\n",
        "    'https://raw.githubusercontent.com/niikhill/AI-ML-Class/main/datasets/headbrain.csv')\n",
        "print(data.shape)\n"
      ]
    },
    {
      "cell_type": "code",
      "execution_count": 5,
      "metadata": {
        "colab": {
          "base_uri": "https://localhost:8080/"
        },
        "id": "r_t1EfGzjgY5",
        "outputId": "58ae11a9-ae28-479d-c278-4b17d71198a9"
      },
      "outputs": [
        {
          "name": "stdout",
          "output_type": "stream",
          "text": [
            "   Gender  Age Range  Head Size  Brain Weight (grams)\n",
            "0       1          1       4512                  1530\n",
            "1       1          1       3738                  1297\n",
            "2       1          1       4261                  1335\n",
            "3       1          1       3777                  1282\n",
            "4       1          1       4177                  1590\n"
          ]
        }
      ],
      "source": [
        "print(data.head())\n"
      ]
    },
    {
      "cell_type": "code",
      "execution_count": 6,
      "metadata": {
        "colab": {
          "base_uri": "https://localhost:8080/",
          "height": 279
        },
        "id": "F1XPP2IGj5LO",
        "outputId": "6650f68a-96d0-4383-ab9b-8450e3548bf0"
      },
      "outputs": [
        {
          "data": {
            "image/png": "[encoded data removed]",
            "text/plain": [
              "<Figure size 432x288 with 1 Axes>"
            ]
          },
          "metadata": {
            "needs_background": "light"
          },
          "output_type": "display_data"
        }
      ],
      "source": [
        "sns.regplot(x=data['Head Size'], y=data['Brain Weight (grams)'])\n"
      ]
    },
    {
      "cell_type": "code",
      "execution_count": 7,
      "metadata": {
        "id": "QNQKfzwykFX5"
      },
      "outputs": [],
      "source": [
        "# Computing X and y\n",
        "X = data['Head Size'].values\n",
        "Y = data['Brain Weight (grams)'].values\n"
      ]
    },
    {
      "cell_type": "code",
      "execution_count": 8,
      "metadata": {
        "id": "0tazm0-NkR_c"
      },
      "outputs": [],
      "source": [
        "X = X.reshape((len(X), 1))\n"
      ]
    },
    {
      "cell_type": "code",
      "execution_count": 9,
      "metadata": {
        "id": "fNzM0cQVkYpY"
      },
      "outputs": [],
      "source": [
        "reg = LinearRegression();"
      ]
    },
    {
      "cell_type": "code",
      "execution_count": 10,
      "metadata": {
        "id": "bNXBjTmzkbrm"
      },
      "outputs": [],
      "source": [
        "reg = reg.fit(X,Y)"
      ]
    },
    {
      "cell_type": "code",
      "execution_count": 11,
      "metadata": {
        "id": "LTy6fgkJkhr2"
      },
      "outputs": [],
      "source": [
        "Y_pred = reg.predict(X)"
      ]
    },
    {
      "cell_type": "code",
      "execution_count": 12,
      "metadata": {
        "colab": {
          "base_uri": "https://localhost:8080/"
        },
        "id": "zGOZAHYflJiR",
        "outputId": "a1a84ddb-168b-40e6-8e2c-b767be3c8094"
      },
      "outputs": [
        {
          "name": "stdout",
          "output_type": "stream",
          "text": [
            "RMSE = 82.20224448520042\n"
          ]
        }
      ],
      "source": [
        "# Root mean squared error(RMSE) is the square root of the average of squared diff between prediction and actual observation.\n",
        "# Here the error are squared before they are averaged, the RMSE gives a relatively high weight to large errors.\n",
        "# So RMSE is more usefull when large error are particularly undesirable.\n",
        "# In simple words RMSE penalize the large errors\n",
        "\n",
        "rmse = np.sqrt(mean_squared_error(Y, Y_pred))\n",
        "print(\"RMSE =\", rmse)\n"
      ]
    },
    {
      "cell_type": "code",
      "execution_count": 13,
      "metadata": {
        "colab": {
          "base_uri": "https://localhost:8080/"
        },
        "id": "JU9QpAcwl4cu",
        "outputId": "c46f2484-4dd5-4a1d-977f-e4f233afecb7"
      },
      "outputs": [
        {
          "name": "stdout",
          "output_type": "stream",
          "text": [
            "R2 Score = 0.6378327820399066\n"
          ]
        }
      ],
      "source": [
        "# R-Squared os the \"Percent of variance explained\" by the model. R-Squared is the fraction by which the variance of the errors is less\n",
        "# than the variance of the dependent variables.\n",
        "r2 = reg.score(X, Y)\n",
        "print(\"R2 Score =\", r2)\n"
      ]
    },
    {
      "cell_type": "code",
      "execution_count": 14,
      "metadata": {
        "id": "qJS2PKWjsEL6"
      },
      "outputs": [],
      "source": [
        "# Mean X and Y\n",
        "mean_x = np.mean(X)\n",
        "mean_y = np.mean(Y)\n",
        "\n",
        "# Total number of values\n",
        "n = len(X)\n"
      ]
    },
    {
      "cell_type": "code",
      "execution_count": 15,
      "metadata": {
        "colab": {
          "base_uri": "https://localhost:8080/"
        },
        "id": "NPBhSuqxsP6x",
        "outputId": "37d934df-1f02-4669-eaa0-f14a1f9dfe24"
      },
      "outputs": [
        {
          "name": "stdout",
          "output_type": "stream",
          "text": [
            "Coefficent\n",
            "[0.2710172] [308.69902673]\n"
          ]
        }
      ],
      "source": [
        "# Using the formula to calculate m and c\n",
        "numer = 0\n",
        "denom = 0\n",
        "for i in range(n):\n",
        "    numer += (X[i] - mean_x)*(Y[i]-mean_y)\n",
        "    denom += (X[i]-mean_x)**2\n",
        "m = numer/denom\n",
        "c = mean_y - (m*mean_x)\n",
        "\n",
        "# Printing coefficent, These Cofficients are our slopes and intercepts values respectively. On substituting values in final equations\n",
        "# Brain Weight = 325.573421049+0.263429339489 * head Size\n",
        "\n",
        "print(\"Coefficent\")\n",
        "print(m, c)\n"
      ]
    },
    {
      "cell_type": "code",
      "execution_count": 16,
      "metadata": {
        "colab": {
          "base_uri": "https://localhost:8080/",
          "height": 279
        },
        "id": "PxvfyvITtQhc",
        "outputId": "4ce2f300-8ce4-41cd-8ced-28db9e815744"
      },
      "outputs": [
        {
          "data": {
            "image/png": "[encoded data removed]",
            "text/plain": [
              "<Figure size 432x288 with 1 Axes>"
            ]
          },
          "metadata": {
            "needs_background": "light"
          },
          "output_type": "display_data"
        }
      ],
      "source": [
        "import matplotlib.pyplot as plt\n",
        "# Plotting Values and regression lines\n",
        "\n",
        "max_x = np.max(X)+100\n",
        "min_x = np.min(X)-100\n",
        "\n",
        "# Calculating lines values x and y\n",
        "x = np.linspace(min_x, max_x, 1000)\n",
        "y = c + m * x\n",
        "\n",
        "# plotting Line\n",
        "plt.plot(x, y, color='#58b970', label=\"Regression Line\")\n",
        "# plotting scatter plot\n",
        "plt.scatter(X, Y, c='#ef5423', label=\"Scatter Plot\")\n",
        "\n",
        "plt.xlabel('Head Size in cm3')\n",
        "plt.ylabel('Brain Weight in grams')\n",
        "plt.legend()\n",
        "plt.show()\n"
      ]
    },
    {
      "cell_type": "code",
      "execution_count": 17,
      "metadata": {
        "colab": {
          "base_uri": "https://localhost:8080/"
        },
        "id": "pchX2YYeudP6",
        "outputId": "61769943-fec7-46fc-9f00-4fdb720ffd16"
      },
      "outputs": [
        {
          "name": "stdout",
          "output_type": "stream",
          "text": [
            "RMSE\n",
            "[82.20224449]\n"
          ]
        }
      ],
      "source": [
        "# Calculating root mean squre Error\n",
        "rmse =0\n",
        "for i in range(n):\n",
        "  y_pred = c + m * X[i]\n",
        "  rmse +=(Y[i]-y_pred)**2\n",
        "rmse = np.sqrt(rmse/n)\n",
        "print(\"RMSE\")\n",
        "print(rmse)"
      ]
    },
    {
      "cell_type": "code",
      "execution_count": 18,
      "metadata": {
        "colab": {
          "base_uri": "https://localhost:8080/"
        },
        "id": "sOt-D7vT3HMo",
        "outputId": "9f705e7b-1b64-4b97-8bb4-a84d2587c5a5"
      },
      "outputs": [
        {
          "name": "stdout",
          "output_type": "stream",
          "text": [
            "R2 score\n",
            "[0.63783278]\n"
          ]
        }
      ],
      "source": [
        "# Calculating R2 score\n",
        "\n",
        "ss_tot = 0\n",
        "ss_res = 0\n",
        "for i in range(n):\n",
        "  y_pred = c + m * X[i]\n",
        "  ss_tot += (Y[i]-mean_y)**2\n",
        "  ss_res += (Y[i]-y_pred)**2\n",
        "r2 = 1 -(ss_res/ss_tot)\n",
        "print(\"R2 score\")\n",
        "print(r2)"
      ]
    }
  ],
  "metadata": {
    "colab": {
      "authorship_tag": "ABX9TyPaJhA0B523/WAoDMlZr0Jl",
      "include_colab_link": true,
      "name": "least_square.ipynb",
      "provenance": []
    },
    "interpreter": {
      "hash": "f74579012b49ac62e20268bc3041c93309dc1876b7a10b964add9e6588836ca1"
    },
    "kernelspec": {
      "display_name": "Python 3.9.5 64-bit",
      "name": "python3"
    },
    "language_info": {
      "codemirror_mode": {
        "name": "ipython",
        "version": 3
      },
      "file_extension": ".py",
      "mimetype": "text/x-python",
      "name": "python",
      "nbconvert_exporter": "python",
      "pygments_lexer": "ipython3",
      "version": "3.9.5"
    }
  },
  "nbformat": 4,
  "nbformat_minor": 0
}
