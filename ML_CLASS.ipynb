{
  "nbformat": 4,
  "nbformat_minor": 0,
  "metadata": {
    "colab": {
      "name": "ML_CLASS.ipynb",
      "provenance": [],
      "authorship_tag": "ABX9TyPdFQcoI63tT/xCCQK3XDcD",
      "include_colab_link": true
    },
    "kernelspec": {
      "name": "python3",
      "display_name": "Python 3"
    },
    "language_info": {
      "name": "python"
    }
  },
  "cells": [
    {
      "cell_type": "markdown",
      "metadata": {
        "id": "view-in-github",
        "colab_type": "text"
      },
      "source": [
        "<a href=\"https://colab.research.google.com/github/niikhill/AI-ML-Class/blob/main/ML_CLASS.ipynb\" target=\"_parent\"><img src=\"https://colab.research.google.com/assets/colab-badge.svg\" alt=\"Open In Colab\"/></a>"
      ]
    },
    {
      "cell_type": "code",
      "metadata": {
        "id": "NJ_04tI5qukP"
      },
      "source": [
        "#Load Libaries\n",
        "from pandas import read_csv\n",
        "from pandas.plotting import scatter_matrix\n",
        "from matplotlib import  pyplot\n",
        "from sklearn.model_selection import train_test_split\n",
        "from sklearn.model_selection import cross_val_score\n",
        "from sklearn.model_selection import StratifiedKFold\n",
        "from sklearn.metrics import classification_report\n",
        "from sklearn.metrics import confusion_matrix\n",
        "from sklearn.metrics import accuracy_score\n",
        "from sklearn.linear_model import LogisticRegression\n",
        "from sklearn.tree import DecisionTreeClassifier\n",
        "from sklearn.neighbors import KNeighborsClassifier\n",
        "from sklearn.discriminant_analysis import LinearDiscriminantAnalysis\n",
        "from sklearn.naive_bayes import GaussianNB\n",
        "from sklearn.svm import SVC"
      ],
      "execution_count": 8,
      "outputs": []
    },
    {
      "cell_type": "code",
      "metadata": {
        "id": "Ho6EXd5W9czN"
      },
      "source": [
        "#Load Dataset\n",
        "url = \"https://raw.githubusercontent.com/jbrownlee/Datasets/master/iris.csv\"\n",
        "names=['sepal-length','sepal-width','petal-width','class']\n",
        "dataset=read_csv(url,names=names)"
      ],
      "execution_count": null,
      "outputs": []
    },
    {
      "cell_type": "code",
      "metadata": {
        "id": "2y72KoTJAN5y",
        "colab": {
          "base_uri": "https://localhost:8080/"
        },
        "outputId": "de3b3ec2-985c-44fe-df91-8a8502ad32d8"
      },
      "source": [
        "#shape\n",
        "print(dataset.shape)"
      ],
      "execution_count": 9,
      "outputs": [
        {
          "output_type": "stream",
          "name": "stdout",
          "text": [
            "(150, 4)\n"
          ]
        }
      ]
    },
    {
      "cell_type": "code",
      "metadata": {
        "colab": {
          "base_uri": "https://localhost:8080/"
        },
        "id": "XaS5sHzsAhaT",
        "outputId": "a6f7613a-e1e1-439d-b3a4-8b380e25940a"
      },
      "source": [
        "#peek and see first 20 rows\n",
        "print(dataset.head(20))"
      ],
      "execution_count": 10,
      "outputs": [
        {
          "output_type": "stream",
          "name": "stdout",
          "text": [
            "     sepal-length  sepal-width  petal-width        class\n",
            "5.1           3.5          1.4          0.2  Iris-setosa\n",
            "4.9           3.0          1.4          0.2  Iris-setosa\n",
            "4.7           3.2          1.3          0.2  Iris-setosa\n",
            "4.6           3.1          1.5          0.2  Iris-setosa\n",
            "5.0           3.6          1.4          0.2  Iris-setosa\n",
            "5.4           3.9          1.7          0.4  Iris-setosa\n",
            "4.6           3.4          1.4          0.3  Iris-setosa\n",
            "5.0           3.4          1.5          0.2  Iris-setosa\n",
            "4.4           2.9          1.4          0.2  Iris-setosa\n",
            "4.9           3.1          1.5          0.1  Iris-setosa\n",
            "5.4           3.7          1.5          0.2  Iris-setosa\n",
            "4.8           3.4          1.6          0.2  Iris-setosa\n",
            "4.8           3.0          1.4          0.1  Iris-setosa\n",
            "4.3           3.0          1.1          0.1  Iris-setosa\n",
            "5.8           4.0          1.2          0.2  Iris-setosa\n",
            "5.7           4.4          1.5          0.4  Iris-setosa\n",
            "5.4           3.9          1.3          0.4  Iris-setosa\n",
            "5.1           3.5          1.4          0.3  Iris-setosa\n",
            "5.7           3.8          1.7          0.3  Iris-setosa\n",
            "5.1           3.8          1.5          0.3  Iris-setosa\n"
          ]
        }
      ]
    },
    {
      "cell_type": "code",
      "metadata": {
        "colab": {
          "base_uri": "https://localhost:8080/"
        },
        "id": "cKjeWyTSAsNo",
        "outputId": "762cad79-8768-4837-b605-6b8614b524a3"
      },
      "source": [
        "#summries each attribute\n",
        "print(dataset.describe())"
      ],
      "execution_count": 12,
      "outputs": [
        {
          "output_type": "stream",
          "name": "stdout",
          "text": [
            "       sepal-length  sepal-width  petal-width\n",
            "count    150.000000   150.000000   150.000000\n",
            "mean       3.054000     3.758667     1.198667\n",
            "std        0.433594     1.764420     0.763161\n",
            "min        2.000000     1.000000     0.100000\n",
            "25%        2.800000     1.600000     0.300000\n",
            "50%        3.000000     4.350000     1.300000\n",
            "75%        3.300000     5.100000     1.800000\n",
            "max        4.400000     6.900000     2.500000\n"
          ]
        }
      ]
    },
    {
      "cell_type": "code",
      "metadata": {
        "id": "h-ERIPF8A9X2"
      },
      "source": [
        ""
      ],
      "execution_count": null,
      "outputs": []
    }
  ]
}