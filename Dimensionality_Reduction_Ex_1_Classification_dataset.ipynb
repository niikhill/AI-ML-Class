{
  "nbformat": 4,
  "nbformat_minor": 0,
  "metadata": {
    "colab": {
      "name": "Dimensionality_Reduction_Ex_1_Classification_dataset.ipynb",
      "provenance": [],
      "collapsed_sections": [],
      "authorship_tag": "ABX9TyOGC2atmTRWdM6Tp1jK3Zsk",
      "include_colab_link": true
    },
    "kernelspec": {
      "name": "python3",
      "display_name": "Python 3"
    },
    "language_info": {
      "name": "python"
    }
  },
  "cells": [
    {
      "cell_type": "markdown",
      "metadata": {
        "id": "view-in-github",
        "colab_type": "text"
      },
      "source": [
        "<a href=\"https://colab.research.google.com/github/niikhill/AI-ML-Class/blob/main/Dimensionality_Reduction_Ex_1_Classification_dataset.ipynb\" target=\"_parent\"><img src=\"https://colab.research.google.com/assets/colab-badge.svg\" alt=\"Open In Colab\"/></a>"
      ]
    },
    {
      "cell_type": "code",
      "metadata": {
        "colab": {
          "base_uri": "https://localhost:8080/"
        },
        "id": "ZpQONc5_n3WO",
        "outputId": "8fcfc858-20e9-44bb-9bdf-db9659489384"
      },
      "source": [
        "from sklearn.datasets import make_classification \n",
        "# Define data set\n",
        "\n",
        "X,y = make_classification(n_samples=1000,n_features=20,n_informative=10,n_redundant=10,random_state=7)\n",
        "#Summarize the dataset\n",
        "print(X.shape,y.shape)"
      ],
      "execution_count": 3,
      "outputs": [
        {
          "output_type": "stream",
          "name": "stdout",
          "text": [
            "(1000, 20) (1000,)\n"
          ]
        }
      ]
    },
    {
      "cell_type": "code",
      "metadata": {
        "colab": {
          "base_uri": "https://localhost:8080/"
        },
        "id": "8Z-loxLzxLSC",
        "outputId": "5994bf76-ed82-402e-db27-4a46594590f3"
      },
      "source": [
        "from numpy import mean\n",
        "from numpy import std\n",
        "from sklearn.datasets import make_classification\n",
        "from sklearn.model_selection import cross_val_score\n",
        "from sklearn.model_selection import RepeatedStratifiedKFold\n",
        "from sklearn.linear_model import LogisticRegression\n",
        "\n",
        "#Define Dataset\n",
        "X,y = make_classification(n_samples=1000,n_features=20,n_informative=10,n_redundant=10,random_state=7)\n",
        "#Define the model\n",
        "model = LogisticRegression()\n",
        "#Evaluate Model\n",
        "cv = RepeatedStratifiedKFold(n_splits=10,n_repeats=3,random_state=1)\n",
        "n_scores = cross_val_score(model,X,y,scoring ='accuracy',cv=cv,n_jobs=1)\n",
        "# report performance\n",
        "print('Accuracy: %.3f (%.3f)'% (mean(n_scores),std(n_scores)))"
      ],
      "execution_count": 8,
      "outputs": [
        {
          "output_type": "stream",
          "name": "stdout",
          "text": [
            "Accuracy: 0.824 (0.034)\n"
          ]
        }
      ]
    }
  ]
}